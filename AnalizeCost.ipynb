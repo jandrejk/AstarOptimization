{
 "cells": [
  {
   "cell_type": "code",
   "execution_count": 4,
   "metadata": {
    "collapsed": true
   },
   "outputs": [],
   "source": [
    "import numpy as np\n",
    "import sys\n",
    "from PyQt4 import QtGui\n",
    "import os\n"
   ]
  },
  {
   "cell_type": "code",
   "execution_count": 2,
   "metadata": {
    "collapsed": false
   },
   "outputs": [
    {
     "ename": "SystemExit",
     "evalue": "0",
     "output_type": "error",
     "traceback": [
      "An exception has occurred, use %tb to see the full traceback.\n",
      "\u001b[1;31mSystemExit\u001b[0m\u001b[1;31m:\u001b[0m 0\n"
     ]
    },
    {
     "name": "stderr",
     "output_type": "stream",
     "text": [
      "To exit: use 'exit', 'quit', or Ctrl-D.\n"
     ]
    }
   ],
   "source": [
    "def window():\n",
    "    app = QtGui.QApplication(sys.argv)\n",
    "    w = QtGui.QWidget()\n",
    "    b = QtGui.QLabel(w)\n",
    "    b.setText(\"Hello World!\")\n",
    "    w.setGeometry(100,100,200,50)\n",
    "    b.move(50,20)\n",
    "    w.setWindowTitle('PyQt')\n",
    "    w.show()\n",
    "    sys.exit(app.exec_())\n",
    "\n",
    "if __name__ == '__main__':\n",
    "    window()"
   ]
  },
  {
   "cell_type": "code",
   "execution_count": 5,
   "metadata": {
    "collapsed": true
   },
   "outputs": [],
   "source": [
    "patient = 'Camus'\n",
    "pathToPlans = '/home/smcp/janik/dto/patients/'+patient+'/plans'"
   ]
  },
  {
   "cell_type": "code",
   "execution_count": 6,
   "metadata": {
    "collapsed": false
   },
   "outputs": [
    {
     "name": "stdout",
     "output_type": "stream",
     "text": [
      "['plan_ant', 'plan_minpath', 'plan_Astar']\n"
     ]
    }
   ],
   "source": [
    "print(os.listdir(pathToPlans))"
   ]
  },
  {
   "cell_type": "code",
   "execution_count": 7,
   "metadata": {
    "collapsed": false
   },
   "outputs": [],
   "source": [
    "opt_plans = []\n",
    "for plan in os.listdir(pathToPlans) :    \n",
    "    if 'opt' in os.listdir(pathToPlans+'/'+plan) :\n",
    "        opt_plans.append(plan)"
   ]
  },
  {
   "cell_type": "code",
   "execution_count": 8,
   "metadata": {
    "collapsed": true
   },
   "outputs": [],
   "source": [
    "import collections"
   ]
  },
  {
   "cell_type": "code",
   "execution_count": 9,
   "metadata": {
    "collapsed": false,
    "scrolled": true
   },
   "outputs": [
    {
     "name": "stdout",
     "output_type": "stream",
     "text": [
      "['plan_ant', 'plan_minpath', 'plan_Astar']\n"
     ]
    }
   ],
   "source": [
    "print(opt_plans)"
   ]
  },
  {
   "cell_type": "code",
   "execution_count": 10,
   "metadata": {
    "collapsed": true
   },
   "outputs": [],
   "source": [
    "def readObjectiveCost (path) :\n",
    "    File = open(path,'r')\n",
    "    lines = File.read()\n",
    "    info = lines.split('\\n')\n",
    "    objectives = {}\n",
    "    for i in info :\n",
    "        if i != '' :\n",
    "            l = i.split(' = ')\n",
    "            objectives[l[0]] = float(l[1])\n",
    "    ordered = collections.OrderedDict(sorted(objectives.items()))\n",
    "    return ordered"
   ]
  },
  {
   "cell_type": "code",
   "execution_count": 11,
   "metadata": {
    "collapsed": false
   },
   "outputs": [],
   "source": [
    "obj = []\n",
    "for p in opt_plans :\n",
    "    obj.append(readObjectiveCost(path=pathToPlans+'/'+p+'/'+'opt/objectives_cost.txt'))"
   ]
  },
  {
   "cell_type": "code",
   "execution_count": 17,
   "metadata": {
    "collapsed": true
   },
   "outputs": [],
   "source": [
    "import matplotlib.pyplot as plt\n",
    "%matplotlib inline"
   ]
  },
  {
   "cell_type": "code",
   "execution_count": 13,
   "metadata": {
    "collapsed": true
   },
   "outputs": [],
   "source": [
    "reference = [False,False,True]\n",
    "for i, o in enumerate(obj) :\n",
    "    if reference[i] :\n",
    "        norm = np.array(list(o.values()))"
   ]
  },
  {
   "cell_type": "code",
   "execution_count": 14,
   "metadata": {
    "collapsed": false
   },
   "outputs": [
    {
     "name": "stdout",
     "output_type": "stream",
     "text": [
      "[  1.11907674e+00   6.61829582e+01   0.00000000e+00   2.62878337e+00\n",
      "   0.00000000e+00   2.61248768e-02   1.71926501e-03   1.04342670e-02\n",
      "   1.60455758e+05   6.73670193e+04   6.79094376e-01   2.27893426e+05]\n"
     ]
    }
   ],
   "source": [
    "print(np.array(norm))"
   ]
  },
  {
   "cell_type": "code",
   "execution_count": 15,
   "metadata": {
    "collapsed": true
   },
   "outputs": [],
   "source": [
    "def safe_divide (a,b) :\n",
    "    return np.divide(a, b, out=np.zeros_like(a), where=b!=0)"
   ]
  },
  {
   "cell_type": "code",
   "execution_count": 26,
   "metadata": {
    "collapsed": false
   },
   "outputs": [
    {
     "name": "stdout",
     "output_type": "stream",
     "text": [
      "odict_keys(['Auge_li-4', 'Auge_re-5', 'Hirn-6', 'Hirnstamm-7', 'Innenohr-8', 'Myelon-9', 'NTO', 'PTV_I.1.1-1', 'PTV_I.1.1-2', 'PTV_I.1.1-3', 'Parotis_re-10', 'TOTAL'])\n",
      "[  5.22590542e-01   2.07728124e+01   0.00000000e+00   6.64433938e-01\n",
      "   0.00000000e+00   5.37358224e-03   2.09929496e-01   0.00000000e+00\n",
      "   1.79239568e+05   8.38196723e+04   1.18917320e-02   2.63081428e+05]\n",
      "[  1.11907674e+00   6.61829582e+01   0.00000000e+00   2.62878337e+00\n",
      "   0.00000000e+00   2.61248768e-02   1.71926501e-03   1.04342670e-02\n",
      "   1.60455758e+05   6.73670193e+04   6.79094376e-01   2.27893426e+05]\n",
      "[  4.66983652e+01   3.13869506e+01   0.00000000e+00   2.52753401e+01\n",
      "   0.00000000e+00   2.05688328e+01   1.22104210e+04   0.00000000e+00\n",
      "   1.11706535e+02   1.24422415e+02   1.75111626e+00   1.15440552e+02]\n",
      "=========================================\n",
      "odict_keys(['Auge_li-4', 'Auge_re-5', 'Hirn-6', 'Hirnstamm-7', 'Innenohr-8', 'Myelon-9', 'NTO', 'PTV_I.1.1-1', 'PTV_I.1.1-2', 'PTV_I.1.1-3', 'Parotis_re-10', 'TOTAL'])\n",
      "[  8.14363032e-02   2.49575818e+01   0.00000000e+00   2.25096688e+00\n",
      "   0.00000000e+00   6.53681584e-03   2.08539796e+00   2.58159291e-01\n",
      "   1.64136701e+05   5.86123328e+04   5.83471732e-03   2.22778680e+05]\n",
      "[  1.11907674e+00   6.61829582e+01   0.00000000e+00   2.62878337e+00\n",
      "   0.00000000e+00   2.61248768e-02   1.71926501e-03   1.04342670e-02\n",
      "   1.60455758e+05   6.73670193e+04   6.79094376e-01   2.27893426e+05]\n",
      "[  7.27709731e+00   3.77099823e+01   0.00000000e+00   8.56277054e+01\n",
      "   0.00000000e+00   2.50214226e+01   1.21295899e+05   2.47414880e+03\n",
      "   1.02294055e+02   8.70044918e+01   8.59190934e-01   9.77556415e+01]\n",
      "=========================================\n",
      "odict_keys(['Auge_li-4', 'Auge_re-5', 'Hirn-6', 'Hirnstamm-7', 'Innenohr-8', 'Myelon-9', 'NTO', 'PTV_I.1.1-1', 'PTV_I.1.1-2', 'PTV_I.1.1-3', 'Parotis_re-10', 'TOTAL'])\n",
      "[  1.11907674e+00   6.61829582e+01   0.00000000e+00   2.62878337e+00\n",
      "   0.00000000e+00   2.61248768e-02   1.71926501e-03   1.04342670e-02\n",
      "   1.60455758e+05   6.73670193e+04   6.79094376e-01   2.27893426e+05]\n",
      "[  1.11907674e+00   6.61829582e+01   0.00000000e+00   2.62878337e+00\n",
      "   0.00000000e+00   2.61248768e-02   1.71926501e-03   1.04342670e-02\n",
      "   1.60455758e+05   6.73670193e+04   6.79094376e-01   2.27893426e+05]\n",
      "[ 100.  100.    0.  100.    0.  100.  100.  100.  100.  100.  100.  100.]\n",
      "=========================================\n"
     ]
    },
    {
     "data": {
      "image/png": "[encoded data removed]",
      "text/plain": [
       "<matplotlib.figure.Figure at 0x7efc8c57fe10>"
      ]
     },
     "metadata": {},
     "output_type": "display_data"
    }
   ],
   "source": [
    "color = ['r','g','b','m','y','k']\n",
    "plt.figure(figsize=(12,8))\n",
    "for shift, o in enumerate(obj) :\n",
    "    \n",
    "    num = np.array(list(o.values()))\n",
    "    print(o.keys())\n",
    "    print(num)\n",
    "    print(norm)\n",
    "    print(safe_divide(num,norm)*100 )\n",
    "    print('=========================================')\n",
    "    #print(safe_divide(num,norm)*100)\n",
    "    plt.barh(range(len(o))+(np.zeros(len(o))+shift)*0.2, width=safe_divide(num,norm)*100 , height=0.2, \n",
    "             align='center',label=opt_plans[shift],color=color[shift])\n",
    "    plt.yticks(range(len(o)), o.keys(),rotation=0)\n",
    "\n",
    "plt.xlim(0,130)\n",
    "plt.legend(loc='best')\n",
    "plt.show()"
   ]
  },
  {
   "cell_type": "code",
   "execution_count": null,
   "metadata": {
    "collapsed": true
   },
   "outputs": [],
   "source": []
  },
  {
   "cell_type": "code",
   "execution_count": null,
   "metadata": {
    "collapsed": true
   },
   "outputs": [],
   "source": []
  },
  {
   "cell_type": "code",
   "execution_count": null,
   "metadata": {
    "collapsed": true
   },
   "outputs": [],
   "source": []
  }
 ],
 "metadata": {
  "kernelspec": {
   "display_name": "Python 3",
   "language": "python",
   "name": "python3"
  },
  "language_info": {
   "codemirror_mode": {
    "name": "ipython",
    "version": 3
   },
   "file_extension": ".py",
   "mimetype": "text/x-python",
   "name": "python",
   "nbconvert_exporter": "python",
   "pygments_lexer": "ipython3",
   "version": "3.5.1"
  }
 },
 "nbformat": 4,
 "nbformat_minor": 0
}
