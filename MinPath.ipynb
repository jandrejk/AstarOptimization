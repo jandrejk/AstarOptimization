{
 "cells": [
  {
   "cell_type": "code",
   "execution_count": 1,
   "metadata": {
    "collapsed": true
   },
   "outputs": [],
   "source": [
    "import numpy as np\n",
    "import util as ut\n",
    "import imp"
   ]
  },
  {
   "cell_type": "code",
   "execution_count": 2,
   "metadata": {},
   "outputs": [
    {
     "data": {
      "text/plain": [
       "<module 'util' from '/home/janik/Praktikum_medPhys/FirstSearchAlgos/code/util.py'>"
      ]
     },
     "execution_count": 2,
     "metadata": {},
     "output_type": "execute_result"
    }
   ],
   "source": [
    "imp.reload(ut)"
   ]
  },
  {
   "cell_type": "code",
   "execution_count": 3,
   "metadata": {
    "collapsed": true
   },
   "outputs": [],
   "source": [
    "def MinPath (OaR,coll,CT,output_file) :\n",
    "    pathToOARs    = OaR\n",
    "    pathToColl    = coll\n",
    "    pathToCTrestr = CT\n",
    "\n",
    "    #load the maps\n",
    "    collMap = ut.load3DColorwash(pathToColl,setOneToInfty=True)[3]\n",
    "    cTrestrMap = ut.load3DColorwash(pathToCTrestr,setOneToInfty=True)[3]\n",
    "    dim, ga, ta, oARmap = ut.load3DColorwash(pathToOARs)\n",
    "    \n",
    "    #generate one single map, i.e. combine OaR, coll and CT\n",
    "    forbidden = np.maximum(cTrestrMap,collMap) \n",
    "    gt_map = np.maximum(oARmap,forbidden) \n",
    "    \n",
    "    table = np.argmin(gt_map,axis=0)\n",
    "    table_angle = ut.PixelToTableAngle(pixel=table)\n",
    "    \n",
    "    ut.SaveAnglesToTxt(gantry_angle=ga,table_angle=table_angle,directory=output_file)\n",
    "    \n",
    "    "
   ]
  },
  {
   "cell_type": "code",
   "execution_count": 4,
   "metadata": {},
   "outputs": [],
   "source": [
    "pathToOARs = '../Test-2/plans/plan-1/gt-maps/track-1-map.txt'\n",
    "pathToColl = '../Test-2/setups/setup-1/collision-map.txt'\n",
    "pathToCTrestr = '../Test-2/setups/setup-1/ctRestriction-map.txt'\n",
    "\n",
    "MinPath(OaR=pathToOARs,coll=pathToColl,CT=pathToCTrestr,output_file='./bla.txt')"
   ]
  },
  {
   "cell_type": "code",
   "execution_count": null,
   "metadata": {
    "collapsed": true
   },
   "outputs": [],
   "source": []
  }
 ],
 "metadata": {
  "kernelspec": {
   "display_name": "Python 3",
   "language": "python",
   "name": "python3"
  },
  "language_info": {
   "codemirror_mode": {
    "name": "ipython",
    "version": 3
   },
   "file_extension": ".py",
   "mimetype": "text/x-python",
   "name": "python",
   "nbconvert_exporter": "python",
   "pygments_lexer": "ipython3",
   "version": "3.6.1"
  }
 },
 "nbformat": 4,
 "nbformat_minor": 2
}
