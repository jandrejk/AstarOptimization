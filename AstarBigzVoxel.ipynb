{
 "cells": [
  {
   "cell_type": "code",
   "execution_count": 5,
   "metadata": {
    "collapsed": true
   },
   "outputs": [],
   "source": [
    "import matplotlib.pyplot as plt\n",
    "import astarVoxelClasses as AstarCl\n",
    "import sys\n",
    "import time\n",
    "\n",
    "sys.path.insert(0,'/home/janik/Praktikum_medPhys/FirstSearchAlgos/code/')\n",
    "import util as ut"
   ]
  },
  {
   "cell_type": "code",
   "execution_count": 10,
   "metadata": {
    "collapsed": true
   },
   "outputs": [],
   "source": [
    "def a_star_search(graph, ga_Pixel_range):\n",
    "    \n",
    "    start = (ga_Pixel_range[0],0)\n",
    "    goal = ga_Pixel_range[1]\n",
    "    \n",
    "    frontier = AstarCl.PriorityQueue()\n",
    "    frontier.put(start, 0)\n",
    "    came_from = {}\n",
    "    cost_so_far = {}\n",
    "    came_from[start] = None\n",
    "    cost_so_far[start] = 0\n",
    "    \n",
    "    while not frontier.empty():\n",
    "        current = frontier.get()\n",
    "        #print('current',current)\n",
    "        if current[0] == goal:\n",
    "            break\n",
    "        \n",
    "        for next_point in graph.GetNeighbours(current):\n",
    "            new_cost = cost_so_far[current] + graph.cost(current, next_point)\n",
    "            if next_point not in cost_so_far or new_cost < cost_so_far[next_point]:\n",
    "                cost_so_far[next_point] = new_cost\n",
    "                \n",
    "                priority = new_cost + graph.heuristic(next_point)\n",
    "                \n",
    "                frontier.put(next_point, priority)\n",
    "                came_from[next_point] = current\n",
    "    \n",
    "    print(current)\n",
    "    return came_from, current"
   ]
  },
  {
   "cell_type": "code",
   "execution_count": 87,
   "metadata": {
    "collapsed": true
   },
   "outputs": [],
   "source": [
    "import imp"
   ]
  },
  {
   "cell_type": "code",
   "execution_count": 112,
   "metadata": {
    "scrolled": false
   },
   "outputs": [
    {
     "data": {
      "text/plain": [
       "<module 'util' from '/home/janik/Praktikum_medPhys/FirstSearchAlgos/code/util.py'>"
      ]
     },
     "execution_count": 112,
     "metadata": {},
     "output_type": "execute_result"
    }
   ],
   "source": [
    "imp.reload(ut)"
   ]
  },
  {
   "cell_type": "code",
   "execution_count": 121,
   "metadata": {
    "scrolled": false
   },
   "outputs": [
    {
     "name": "stdout",
     "output_type": "stream",
     "text": [
      "0.05493497848510742\n",
      "0.0003006458282470703\n",
      "(179, 12)\n",
      "0.7618720531463623\n",
      "0.0004725456237792969\n"
     ]
    }
   ],
   "source": [
    "go = time.time()\n",
    "\n",
    "\n",
    "ga_start = 0\n",
    "ga_stop = 179\n",
    "\n",
    "\n",
    "pathToOARs = '../../Test-2/plans/plan-1/gt-maps/track-1-map.txt'\n",
    "pathToColl = '../../Test-2/setups/setup-1/collision-map.txt'\n",
    "pathToCTrestr = '../../Test-2/setups/setup-1/ctRestriction-map.txt'\n",
    "\n",
    "collMap = ut.load3DColorwash(pathToColl,setOneToInfty=False)[3]\n",
    "cTrestrMap = ut.load3DColorwash(pathToCTrestr,setOneToInfty=False)[3]\n",
    "\n",
    "dim, ga, ta, oARmap = ut.load3DColorwash(pathToOARs)\n",
    "print(time.time()-go)\n",
    "go = time.time()\n",
    "\n",
    "GT = AstarCl.GT_map(oARmap,collMap,cTrestrMap,gradient=1,start=ga_start,end=ga_stop)\n",
    "print(time.time()-go)\n",
    "go = time.time()\n",
    "\n",
    "came_from, last_point = a_star_search(GT, ga_Pixel_range=[ga_start,ga_stop])\n",
    "print(time.time()-go)\n",
    "go = time.time()\n",
    "\n",
    "path = AstarCl.reconstruct_path(came_from=came_from, start=(ga_start,0),goal=last_point)\n",
    "\n",
    "print(time.time()-go)"
   ]
  },
  {
   "cell_type": "code",
   "execution_count": 16,
   "metadata": {
    "collapsed": true
   },
   "outputs": [],
   "source": [
    "import plotting as pl"
   ]
  },
  {
   "cell_type": "code",
   "execution_count": 106,
   "metadata": {},
   "outputs": [
    {
     "ename": "TypeError",
     "evalue": "ufunc 'minimum' did not contain a loop with signature matching types dtype('<U32') dtype('<U32') dtype('<U32')",
     "output_type": "error",
     "traceback": [
      "\u001b[0;31m---------------------------------------------------------------------------\u001b[0m",
      "\u001b[0;31mTypeError\u001b[0m                                 Traceback (most recent call last)",
      "\u001b[0;32m<ipython-input-106-23a51f7cafaa>\u001b[0m in \u001b[0;36m<module>\u001b[0;34m()\u001b[0m\n\u001b[1;32m      1\u001b[0m \u001b[0;34m\u001b[0m\u001b[0m\n\u001b[1;32m      2\u001b[0m \u001b[0;34m\u001b[0m\u001b[0m\n\u001b[0;32m----> 3\u001b[0;31m \u001b[0mpl\u001b[0m\u001b[0;34m.\u001b[0m\u001b[0mFlooadPlot\u001b[0m\u001b[0;34m(\u001b[0m\u001b[0mpic\u001b[0m\u001b[0;34m=\u001b[0m\u001b[0moARmap\u001b[0m\u001b[0;34m,\u001b[0m\u001b[0mflood_level\u001b[0m\u001b[0;34m=\u001b[0m\u001b[0;36m0.3\u001b[0m\u001b[0;34m)\u001b[0m\u001b[0;34m\u001b[0m\u001b[0m\n\u001b[0m\u001b[1;32m      4\u001b[0m \u001b[0;34m\u001b[0m\u001b[0m\n\u001b[1;32m      5\u001b[0m \u001b[0;31m#pl.PlotTrack(path)\u001b[0m\u001b[0;34m\u001b[0m\u001b[0;34m\u001b[0m\u001b[0m\n",
      "\u001b[0;32m/home/janik/Praktikum_medPhys/FirstSearchAlgos/code/plotting.py\u001b[0m in \u001b[0;36mFlooadPlot\u001b[0;34m(pic, flood_level)\u001b[0m\n\u001b[1;32m     10\u001b[0m \u001b[0;32mdef\u001b[0m \u001b[0mFlooadPlot\u001b[0m \u001b[0;34m(\u001b[0m\u001b[0mpic\u001b[0m\u001b[0;34m,\u001b[0m \u001b[0mflood_level\u001b[0m\u001b[0;34m)\u001b[0m \u001b[0;34m:\u001b[0m\u001b[0;34m\u001b[0m\u001b[0m\n\u001b[1;32m     11\u001b[0m     \u001b[0mplt\u001b[0m\u001b[0;34m.\u001b[0m\u001b[0mfigure\u001b[0m\u001b[0;34m(\u001b[0m\u001b[0mfigsize\u001b[0m\u001b[0;34m=\u001b[0m\u001b[0;34m(\u001b[0m\u001b[0;36m11\u001b[0m\u001b[0;34m,\u001b[0m\u001b[0;36m11\u001b[0m\u001b[0;34m)\u001b[0m\u001b[0;34m)\u001b[0m\u001b[0;34m\u001b[0m\u001b[0m\n\u001b[0;32m---> 12\u001b[0;31m     \u001b[0mflood\u001b[0m \u001b[0;34m=\u001b[0m \u001b[0mnp\u001b[0m\u001b[0;34m.\u001b[0m\u001b[0mminimum\u001b[0m\u001b[0;34m(\u001b[0m\u001b[0mpic\u001b[0m\u001b[0;34m,\u001b[0m\u001b[0mnp\u001b[0m\u001b[0;34m.\u001b[0m\u001b[0mzeros\u001b[0m\u001b[0;34m(\u001b[0m\u001b[0mnp\u001b[0m\u001b[0;34m.\u001b[0m\u001b[0mshape\u001b[0m\u001b[0;34m(\u001b[0m\u001b[0mpic\u001b[0m\u001b[0;34m)\u001b[0m\u001b[0;34m)\u001b[0m\u001b[0;34m+\u001b[0m\u001b[0mflood_level\u001b[0m\u001b[0;34m)\u001b[0m\u001b[0;34m\u001b[0m\u001b[0m\n\u001b[0m\u001b[1;32m     13\u001b[0m     \u001b[0mplt\u001b[0m\u001b[0;34m.\u001b[0m\u001b[0mimshow\u001b[0m\u001b[0;34m(\u001b[0m\u001b[0mflood\u001b[0m\u001b[0;34m,\u001b[0m\u001b[0morigin\u001b[0m\u001b[0;34m=\u001b[0m\u001b[0;34m'left'\u001b[0m\u001b[0;34m,\u001b[0m\u001b[0mcmap\u001b[0m\u001b[0;34m=\u001b[0m\u001b[0;34m'jet'\u001b[0m\u001b[0;34m)\u001b[0m\u001b[0;34m\u001b[0m\u001b[0m\n\u001b[1;32m     14\u001b[0m     \u001b[0mplt\u001b[0m\u001b[0;34m.\u001b[0m\u001b[0mcolorbar\u001b[0m\u001b[0;34m(\u001b[0m\u001b[0morientation\u001b[0m\u001b[0;34m=\u001b[0m\u001b[0;34m'horizontal'\u001b[0m\u001b[0;34m)\u001b[0m\u001b[0;34m\u001b[0m\u001b[0m\n",
      "\u001b[0;31mTypeError\u001b[0m: ufunc 'minimum' did not contain a loop with signature matching types dtype('<U32') dtype('<U32') dtype('<U32')"
     ]
    }
   ],
   "source": [
    "\n",
    "\n",
    "pl.FlooadPlot(pic=oARmap,flood_level=0.3)\n",
    "\n",
    "#pl.PlotTrack(path)\n",
    "plt.show()"
   ]
  },
  {
   "cell_type": "code",
   "execution_count": null,
   "metadata": {
    "collapsed": true
   },
   "outputs": [],
   "source": []
  },
  {
   "cell_type": "code",
   "execution_count": null,
   "metadata": {
    "collapsed": true
   },
   "outputs": [],
   "source": []
  },
  {
   "cell_type": "code",
   "execution_count": null,
   "metadata": {
    "collapsed": true
   },
   "outputs": [],
   "source": []
  },
  {
   "cell_type": "code",
   "execution_count": null,
   "metadata": {
    "collapsed": true
   },
   "outputs": [],
   "source": []
  },
  {
   "cell_type": "code",
   "execution_count": null,
   "metadata": {
    "collapsed": true
   },
   "outputs": [],
   "source": []
  },
  {
   "cell_type": "code",
   "execution_count": null,
   "metadata": {
    "collapsed": true
   },
   "outputs": [],
   "source": []
  },
  {
   "cell_type": "code",
   "execution_count": 1,
   "metadata": {
    "collapsed": true
   },
   "outputs": [],
   "source": [
    "import numpy as np\n",
    "import matplotlib.pyplot as plt\n",
    "\n",
    "import sys\n",
    "\n",
    "sys.path.insert(0,'/home/janik/Praktikum_medPhys/FirstSearchAlgos/code/')\n",
    "import util as ut"
   ]
  },
  {
   "cell_type": "code",
   "execution_count": 2,
   "metadata": {
    "collapsed": true
   },
   "outputs": [],
   "source": [
    "class GT_map :\n",
    "    def __init__(self, color_map,collision_map, CT_map, gradient=1,start=0,end=180,seeTheFuture=3) :\n",
    "        self.color = color_map\n",
    "        self.collision = collision_map\n",
    "        self.ct = CT_map\n",
    "        self.grad = gradient\n",
    "        self.start_ga_Pixel = start\n",
    "        self.end_ga_Pixel = end\n",
    "        self.future = seeTheFuture\n",
    "        \n",
    "        self.tableMaxPixel, self.gantryMaxPixel = np.shape(self.color)\n",
    "        \n",
    "        \n",
    "    def GetNeighbours (self, point) :\n",
    "        \"\"\"\n",
    "        params:\n",
    "            point      - is of type tuple. represents the coordinates (x,y) in pixel\n",
    "                         units, i.e. in terms of the dimension of the color map\n",
    "        returns :\n",
    "            neighbours - is a list of tuples. Each list element is a tuple (x,y) of\n",
    "                         points being the nrighbours of the input point\n",
    "        \"\"\"\n",
    "\n",
    "        x = point[0]\n",
    "        y = point[1]\n",
    "        \n",
    "        \n",
    "        if (x == self.start_ga_Pixel) :\n",
    "            neighbours = []\n",
    "            for t in range(self.tableMaxPixel) :\n",
    "                neighbours.append((x+1,t))\n",
    "        else :\n",
    "            #go to right\n",
    "            neighbours = [(x+1,y)]\n",
    "            for g in range(self.grad) :\n",
    "                neighbours.append((x+1,y+(1+g)))\n",
    "                neighbours.append((x+1,y-(1+g)))\n",
    "\n",
    "        forbidden = []\n",
    "        for n in neighbours :\n",
    "            if (n[0]<0 or n[0]>self.gantryMaxPixel-1 or n[1]<0 or n[1]>self.tableMaxPixel-1\n",
    "               or self.collision[n[::-1]] != 0. or self.ct[n[::-1]] != 0.) :\n",
    "                forbidden.append(n)\n",
    "            \n",
    "        for f in forbidden :\n",
    "            neighbours.remove(f)\n",
    "\n",
    "        return neighbours\n",
    "    \n",
    "    def cost (self, current_point, next_point) :\n",
    "        return self.color[next_point[::-1]]\n",
    "    \n",
    "    def heuristic(self,next_point) :\n",
    "        x = next_point[0]\n",
    "        y = next_point[1]\n",
    "        \n",
    "        return np.sum(self.color[y][x:x+self.future])\n",
    "        "
   ]
  },
  {
   "cell_type": "code",
   "execution_count": 3,
   "metadata": {
    "collapsed": true
   },
   "outputs": [],
   "source": [
    "pathToOARs = '../../Test-2/plans/plan-1/gt-maps/track-1-map.txt'\n",
    "pathToColl = '../../Test-2/setups/setup-1/collision-map.txt'\n",
    "pathToCTrestr = '../../Test-2/setups/setup-1/ctRestriction-map.txt'\n",
    "\n",
    "collMap = ut.load3DColorwash(pathToColl,setOneToInfty=True)[3]\n",
    "cTrestrMap = ut.load3DColorwash(pathToCTrestr,setOneToInfty=True)[3]\n",
    "\n",
    "dim, ga, ta, oARmap = ut.load3DColorwash(pathToOARs)"
   ]
  },
  {
   "cell_type": "code",
   "execution_count": 17,
   "metadata": {
    "collapsed": true
   },
   "outputs": [],
   "source": [
    "import time"
   ]
  },
  {
   "cell_type": "code",
   "execution_count": 4,
   "metadata": {
    "collapsed": true
   },
   "outputs": [],
   "source": [
    "import heapq\n",
    "\n",
    "class PriorityQueue:\n",
    "    def __init__(self):\n",
    "        self.elements = []\n",
    "    \n",
    "    def empty(self):\n",
    "        return len(self.elements) == 0\n",
    "    \n",
    "    def put(self, item, priority):\n",
    "        heapq.heappush(self.elements, (priority, item))\n",
    "    \n",
    "    def get(self):\n",
    "        return heapq.heappop(self.elements)[1]"
   ]
  },
  {
   "cell_type": "code",
   "execution_count": 84,
   "metadata": {
    "collapsed": true
   },
   "outputs": [],
   "source": [
    "def reconstruct_path(came_from, start, goal):\n",
    "    current = goal\n",
    "    path = []\n",
    "    while current != start:\n",
    "        path.append(current)\n",
    "        current = came_from[current]\n",
    "    \n",
    "    #append start point being one to the left \n",
    "    path.append((path[-1][0]-1,path[-1][1])) \n",
    "    \n",
    "    path.reverse() \n",
    "    return path"
   ]
  },
  {
   "cell_type": "code",
   "execution_count": 85,
   "metadata": {
    "collapsed": true
   },
   "outputs": [],
   "source": [
    "def heuristic(a, b):\n",
    "    (x1, y1) = a\n",
    "    (x2, y2) = b\n",
    "    #return abs(x1 - x2) + abs(y1 - y2)\n",
    "    return 0.\n",
    "\n",
    "\n",
    "def a_star_search(graph, ga_Pixel_range):\n",
    "    \n",
    "    start = (ga_Pixel_range[0],0)\n",
    "    goal = ga_Pixel_range[1]\n",
    "    \n",
    "    frontier = PriorityQueue()\n",
    "    frontier.put(start, 0)\n",
    "    came_from = {}\n",
    "    cost_so_far = {}\n",
    "    came_from[start] = None\n",
    "    cost_so_far[start] = 0\n",
    "    \n",
    "    while not frontier.empty():\n",
    "        current = frontier.get()\n",
    "        #print('current',current)\n",
    "        if current[0] == goal:\n",
    "            break\n",
    "        \n",
    "        for next_point in graph.GetNeighbours(current):\n",
    "            new_cost = cost_so_far[current] + graph.cost(current, next_point)\n",
    "            if next_point not in cost_so_far or new_cost < cost_so_far[next_point]:\n",
    "                cost_so_far[next_point] = new_cost\n",
    "                \n",
    "                #priority = new_cost + heuristic(goal, next_point)\n",
    "                priority = new_cost + graph.heuristic(next_point)\n",
    "                \n",
    "                frontier.put(next_point, priority)\n",
    "                came_from[next_point] = current\n",
    "    \n",
    "    print(current)\n",
    "    return came_from, current\n"
   ]
  },
  {
   "cell_type": "code",
   "execution_count": 118,
   "metadata": {
    "collapsed": true
   },
   "outputs": [],
   "source": [
    "ga_start = 0\n",
    "ga_stop = 179"
   ]
  },
  {
   "cell_type": "code",
   "execution_count": 119,
   "metadata": {},
   "outputs": [
    {
     "name": "stdout",
     "output_type": "stream",
     "text": [
      "start pixel\n",
      "(179, 28)\n",
      "1.8950366973876953\n"
     ]
    }
   ],
   "source": [
    "go = time.time()\n",
    "GT = GT_map(oARmap,collMap,cTrestrMap,gradient=5,start=ga_start,end=ga_stop)\n",
    "\n",
    "came_from, last_point = a_star_search(GT, ga_Pixel_range=[ga_start,ga_stop])\n",
    "\n",
    "print(time.time()-go)"
   ]
  },
  {
   "cell_type": "code",
   "execution_count": 120,
   "metadata": {},
   "outputs": [
    {
     "name": "stdout",
     "output_type": "stream",
     "text": [
      "(179, 28)\n"
     ]
    }
   ],
   "source": [
    "print(last_point)"
   ]
  },
  {
   "cell_type": "code",
   "execution_count": 121,
   "metadata": {
    "scrolled": true
   },
   "outputs": [],
   "source": [
    "path = reconstruct_path(came_from=came_from, start=(ga_start,0),goal=last_point)"
   ]
  },
  {
   "cell_type": "code",
   "execution_count": 122,
   "metadata": {
    "collapsed": true
   },
   "outputs": [],
   "source": [
    "import plotting as pl"
   ]
  },
  {
   "cell_type": "code",
   "execution_count": 123,
   "metadata": {},
   "outputs": [
    {
     "data": {
      "image/png": "[encoded data removed]",
      "text/plain": [
       "<matplotlib.figure.Figure at 0x7f1588be6eb8>"
      ]
     },
     "metadata": {},
     "output_type": "display_data"
    }
   ],
   "source": [
    "#pl.QuickPlot(pic=oARmap+collMap/10.+cTrestrMap/10.)\n",
    "\n",
    "pl.FlooadPlot(pic=oARmap,flood_level=0.3)\n",
    "\n",
    "pl.PlotTrack(path)\n",
    "plt.show()"
   ]
  },
  {
   "cell_type": "code",
   "execution_count": null,
   "metadata": {
    "collapsed": true
   },
   "outputs": [],
   "source": []
  }
 ],
 "metadata": {
  "kernelspec": {
   "display_name": "Python 3",
   "language": "python",
   "name": "python3"
  },
  "language_info": {
   "codemirror_mode": {
    "name": "ipython",
    "version": 3
   },
   "file_extension": ".py",
   "mimetype": "text/x-python",
   "name": "python",
   "nbconvert_exporter": "python",
   "pygments_lexer": "ipython3",
   "version": "3.6.1"
  }
 },
 "nbformat": 4,
 "nbformat_minor": 2
}
